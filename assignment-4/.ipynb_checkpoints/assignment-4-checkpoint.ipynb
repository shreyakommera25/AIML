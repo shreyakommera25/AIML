{
 "cells": [
  {
   "cell_type": "markdown",
   "metadata": {},
   "source": [
    "CSE 221710313025 KOMMERA SHREYA"
   ]
  },
  {
   "cell_type": "code",
   "execution_count": 1,
   "metadata": {},
   "outputs": [],
   "source": [
    "f = open(\"test.txt\",\"w\")\n",
    "f.write('''Hello everyone this is for assignment purpose\n",
    "counting number of lines words letters''')\n",
    "f.close()"
   ]
  },
  {
   "cell_type": "code",
   "execution_count": 2,
   "metadata": {},
   "outputs": [],
   "source": [
    "f=open(\"name.txt\",\"w\")\n",
    "f.write(\"this file is for using remove function\")\n",
    "f.close()"
   ]
  },
  {
   "cell_type": "code",
   "execution_count": 3,
   "metadata": {},
   "outputs": [
    {
     "name": "stdout",
     "output_type": "stream",
     "text": [
      "words: 13 \n",
      "Charecters: 84 \n",
      "Lines: 2\n"
     ]
    }
   ],
   "source": [
    "#1 Count the no.of words,no.of letters,no.of lines available in your file\n",
    "\n",
    "f=open(\"test.txt\",\"r\")\n",
    "data=f.read()\n",
    "words=data.split()\n",
    "l=data.split('\\n')\n",
    "print(\"words:\",len(words),\"\\nCharecters:\",len(data),\"\\nLines:\",len(l))"
   ]
  },
  {
   "cell_type": "code",
   "execution_count": 4,
   "metadata": {},
   "outputs": [],
   "source": [
    "#2 Copy the content of one file to another\n",
    "\n",
    "f=open(\"test.txt\")\n",
    "f1=open(\"output.txt\",\"a\")#a is for appending \n",
    "for line in f.readlines():\n",
    "    f1.write(line)\n",
    "f1.close()\n",
    "f.close()"
   ]
  },
  {
   "cell_type": "code",
   "execution_count": 5,
   "metadata": {},
   "outputs": [
    {
     "name": "stdout",
     "output_type": "stream",
     "text": [
      "words starting with P: 1\n"
     ]
    }
   ],
   "source": [
    "#3 Display the words starting with letter 'p'\n",
    "\n",
    "f=open(\"test.txt\",\"r\")\n",
    "data=f.read()\n",
    "c=0\n",
    "for i in data.split():\n",
    "    if i.startswith('p'):\n",
    "        c=c+1\n",
    "print(\"words starting with P:\",c)        "
   ]
  },
  {
   "cell_type": "code",
   "execution_count": 1,
   "metadata": {},
   "outputs": [
    {
     "name": "stdout",
     "output_type": "stream",
     "text": [
      "File Renamed\n",
      "File Removed!\n"
     ]
    }
   ],
   "source": [
    "#4 Rename and remove files\n",
    "\n",
    "import os\n",
    "os.rename(\"test.txt\",\"tes1.txt\")\n",
    "print(\"File Renamed\")\n",
    "os.remove(\"name.txt\")\n",
    "print(\"File Removed!\")"
   ]
  },
  {
   "cell_type": "code",
   "execution_count": 1,
   "metadata": {},
   "outputs": [
    {
     "name": "stdout",
     "output_type": "stream",
     "text": [
      "Number of files: 5\n"
     ]
    }
   ],
   "source": [
    "#5\n",
    "n = input(\"Number of files: \")\n",
    "n = int(n)\n",
    "for i in range(n):\n",
    "   f = open(\"test\" +str(i)+\".txt\", \"w\")\n",
    "   for i in range(512):\n",
    "       f.write(\"character\")"
   ]
  },
  {
   "cell_type": "code",
   "execution_count": null,
   "metadata": {},
   "outputs": [],
   "source": []
  }
 ],
 "metadata": {
  "kernelspec": {
   "display_name": "Python 3",
   "language": "python",
   "name": "python3"
  },
  "language_info": {
   "codemirror_mode": {
    "name": "ipython",
    "version": 3
   },
   "file_extension": ".py",
   "mimetype": "text/x-python",
   "name": "python",
   "nbconvert_exporter": "python",
   "pygments_lexer": "ipython3",
   "version": "3.7.6"
  }
 },
 "nbformat": 4,
 "nbformat_minor": 4
}
