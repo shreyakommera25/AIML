{
 "cells": [
  {
   "cell_type": "markdown",
   "metadata": {},
   "source": [
    "CSE 221710313025 KOMMERA SHREYA\n"
   ]
  },
  {
   "cell_type": "code",
   "execution_count": 3,
   "metadata": {},
   "outputs": [
    {
     "name": "stdout",
     "output_type": "stream",
     "text": [
      "baldeye19$\n",
      "do you want another password yes\n",
      "chubbybusiness36*\n",
      "do you want another password no\n"
     ]
    }
   ],
   "source": [
    "l1=[\"attractive\",\"bald\",\"beautiful\",\"chubby\",\"clean\",\"dazzling\",\"drab\",\"elegant\",\"fancy\",\"fit\"]\n",
    "l2=[\"area\",\"book\",\"business\",\"case\",\"child\",\"company\",\"country\",\"day\",\"eye\",\"fact\"]\n",
    "l3=[\"!\",\"@\",\"#\",\"$\",\"%\",\"*\"]\n",
    "import random\n",
    "while True:\n",
    "    x=str(random.choice(l1))\n",
    "    y=str(random.choice(l2))\n",
    "    z=str(random.randint(0,100))\n",
    "    r=str(random.choice(l3))\n",
    "    print(str(x+y+z+r))\n",
    "    pwd=input(\"do you want another password \")\n",
    "    if pwd==\"no\":\n",
    "        break\n",
    "    else:\n",
    "        continue"
   ]
  },
  {
   "cell_type": "code",
   "execution_count": null,
   "metadata": {},
   "outputs": [],
   "source": []
  }
 ],
 "metadata": {
  "kernelspec": {
   "display_name": "Python 3",
   "language": "python",
   "name": "python3"
  },
  "language_info": {
   "codemirror_mode": {
    "name": "ipython",
    "version": 3
   },
   "file_extension": ".py",
   "mimetype": "text/x-python",
   "name": "python",
   "nbconvert_exporter": "python",
   "pygments_lexer": "ipython3",
   "version": "3.7.6"
  }
 },
 "nbformat": 4,
 "nbformat_minor": 4
}
